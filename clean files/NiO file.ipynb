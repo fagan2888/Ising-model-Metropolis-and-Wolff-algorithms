{
 "cells": [
  {
   "cell_type": "code",
   "execution_count": 1,
   "metadata": {},
   "outputs": [],
   "source": [
    "from numba import jit\n",
    "from PIL import Image\n",
    "import numpy as np\n",
    "from numpy.random import rand\n",
    "import matplotlib.pyplot as plt\n",
    "import random\n",
    "%matplotlib inline\n",
    "import pandas as pd\n",
    "from statsmodels.tsa.stattools import acf\n",
    "import warnings \n",
    "warnings.filterwarnings(\"ignore\", category=DeprecationWarning)"
   ]
  },
  {
   "cell_type": "markdown",
   "metadata": {},
   "source": [
    "### Details of model"
   ]
  },
  {
   "cell_type": "code",
   "execution_count": null,
   "metadata": {},
   "outputs": [],
   "source": [
    "N    = 10 #dimensions of matrix\n",
    "J1   = 2.3*10**(-3) #coupling constant in Ev\n",
    "J2   = -21*10**(-3)\n",
    "H    = 0 #magnetic field, must be set to 0 to compute observables \n",
    "counts = 1000\n",
    "T    = (0.01) #temperature in K\n",
    "k    = 8.6173303*10**(-5) #boltzmann constant in Ev/K\n",
    "beta = 1/(k*T)"
   ]
  },
  {
   "cell_type": "code",
   "execution_count": null,
   "metadata": {},
   "outputs": [],
   "source": [
    "def initial_state_Nio(N): \n",
    "    '''initialize the lattice'''\n",
    "    state = np.random.choice([-1, 1], (N, N))\n",
    "    state[::2, ::2] = 0\n",
    "    state[1::2, 1::2] = 0\n",
    "    return state\n",
    "def diag_nbrs(i,j,N): \n",
    "    return [((i+1)%N,(j+1)%N),((i+1)%N,(j-1)%N),((i-1)%N,(j+1)%N),((i-1)%N,(j-1)%N)]\n",
    "def lat_nbrs(i,j,N): \n",
    "    return [(i,(j+2)%N),(i,(j-2)%N),((i+2)%N, j),((i-2)%N, j)]\n"
   ]
  },
  {
   "cell_type": "code",
   "execution_count": null,
   "metadata": {},
   "outputs": [],
   "source": [
    "def Energy_Nio(state, J1, J2, H):\n",
    "    J1   = 2.3*10**(-3) #diagonal\n",
    "    J2   = -21*10**(-3) #lateral coupling\n",
    "    E = 0\n",
    "    N = state.shape[0]\n",
    "    for x in range(N):\n",
    "        for y in range(N):\n",
    "            if (x-y)%2: # (x-y)%2 == 0 are oxygen atoms with no interaction\n",
    "                nbrs = diag_nbrs(x,y,N)\n",
    "                for nbr in nbrs:\n",
    "                    E += -state[x,y]*J1*state[nbr[0],nbr[1]]\n",
    "                nbrs = lat_nbrs(x,y,N)\n",
    "                for nbr in nbrs:\n",
    "                    E += -state[x,y]*J2*state[nbr[0],nbr[1]]\n",
    "    E/=2\n",
    "    E -= H*state.sum()\n",
    "    return E"
   ]
  },
  {
   "cell_type": "code",
   "execution_count": null,
   "metadata": {},
   "outputs": [],
   "source": [
    "def calcMag(state):\n",
    "    return np.sum(state)\n",
    "\n",
    "def step_update_Nio(state, beta, J1, J2,H,energy,mag,N):\n",
    "    J1   = 2.3*10**(-3) #diagonal\n",
    "    J2   = -21*10**(-3) #lateral coupling\n",
    "    for i in range(N**2): #1 step per state on average\n",
    "        dE = 0\n",
    "        x = random.randint(0,N-1)\n",
    "        y = random.randint(0,N-1)\n",
    "        if (x-y)%2:\n",
    "            nbrs = diag_nbrs(x,y,N)\n",
    "            for nbr in nbrs:\n",
    "                dE += 2*state[x,y]*J1*state[nbr[0],nbr[1]]\n",
    "            nbrs = lat_nbrs(x,y,N)\n",
    "            for nbr in nbrs:\n",
    "                dE += 2*state[x,y]*J2*state[nbr[0],nbr[1]]\n",
    "            dE += 2*H*state[x,y]\n",
    "            if (dE <= 0):\n",
    "                if state[x,y] == 1:\n",
    "                    mag-=2\n",
    "                else:\n",
    "                    mag+=2\n",
    "                energy += dE\n",
    "                state[x, y] *= -1\n",
    "            else:\n",
    "                r = random.uniform(0,1)\n",
    "                tau = np.exp(-dE*beta)\n",
    "                if (r < tau) :\n",
    "                    if state[x,y] == 1:\n",
    "                        mag-=2\n",
    "                    else:\n",
    "                        mag+=2\n",
    "                    energy += dE\n",
    "                    state[x, y] *= -1\n",
    "    return state,energy,mag\n",
    "\n",
    "def run_Nio(state, steps, N, beta, J1, J2,H):\n",
    "    '''runs for steps times'''\n",
    "    J1   = 2.3*10**(-3) \n",
    "    J2   = -21*10**(-3)\n",
    "    E = np.zeros(steps)\n",
    "    M = np.zeros(steps)\n",
    "    energy = Energy_Nio(state, J1, J2,H)\n",
    "    mag = calcMag(state)\n",
    "    for i in range(steps):\n",
    "        state,energy,mag = step_update_Nio(state, beta, J1, J2,H,energy,mag,N)\n",
    "        E[i] = energy\n",
    "        M[i]= mag\n",
    "#     plt.plot(E)\n",
    "#     plt.show()\n",
    "#     plt.plot(M)\n",
    "#     plt.show()\n",
    "    return state,E,M"
   ]
  },
  {
   "cell_type": "markdown",
   "metadata": {},
   "source": [
    "### running for variable temperatures"
   ]
  },
  {
   "cell_type": "code",
   "execution_count": null,
   "metadata": {},
   "outputs": [],
   "source": [
    "N    = 12 #dimensions of matrix\n",
    "J1   = 2.3*10**(-3) #coupling constant in Ev\n",
    "J2   = -21*10**(-3)\n",
    "H    = 0 #magnetic field, must be set to 0 to compute observables \n",
    "counts = int(1e5)\n",
    "T_start = np.log(0.0001)\n",
    "T_end = np.log(1e6)\n",
    "T_cnt = 10\n",
    "# T    = (0.01) #temperature in K\n",
    "Ts = np.logspace(T_start,T_end,T_cnt)\n",
    "k    = 8.6173303*10**(-5) #boltzmann constant in Ev/K\n",
    "# beta = 1/(k*T)\n",
    "states = np.zeros(shape=(T_cnt,N,N))\n",
    "Ener1s,Mag1s = np.zeros(shape = (T_cnt,counts)), np.zeros(shape = (T_cnt,counts))\n",
    "\n",
    "for i in range(Ts.size):\n",
    "    T = Ts[i]\n",
    "    beta = 1/(k*T)\n",
    "    state = initial_state_Nio(N)\n",
    "    # counts = 10000\n",
    "    state,E,M = run_Nio(state, counts, N, beta, J1, J2, H)\n",
    "\n",
    "    print (state)\n",
    "    Ener1s[i] = E\n",
    "    Mag1s[i] = M\n",
    "    plt.imshow(state,cmap='bwr',interpolation=\"none\") \n",
    "    plt.show() #plots last configuration"
   ]
  }
 ],
 "metadata": {
  "kernelspec": {
   "display_name": "Python 3",
   "language": "python",
   "name": "python3"
  },
  "language_info": {
   "codemirror_mode": {
    "name": "ipython",
    "version": 3
   },
   "file_extension": ".py",
   "mimetype": "text/x-python",
   "name": "python",
   "nbconvert_exporter": "python",
   "pygments_lexer": "ipython3",
   "version": "3.6.5"
  }
 },
 "nbformat": 4,
 "nbformat_minor": 2
}
