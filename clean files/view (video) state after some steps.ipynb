{
 "cells": [
  {
   "cell_type": "markdown",
   "metadata": {
    "colab_type": "text",
    "id": "DRr1CWaeJZUM"
   },
   "source": [
    "\n",
    "Temperature  T is in joules/kb\n",
    "\n"
   ]
  },
  {
   "cell_type": "code",
   "execution_count": 1,
   "metadata": {
    "colab": {},
    "colab_type": "code",
    "id": "GRkSgcQWGgfy"
   },
   "outputs": [],
   "source": [
    "from numba import jit\n",
    "from PIL import Image\n",
    "# from __future__ import division\n",
    "import numpy as np\n",
    "from numpy.random import rand\n",
    "import matplotlib.pyplot as plt\n",
    "import random\n",
    "%matplotlib inline\n"
   ]
  },
  {
   "cell_type": "code",
   "execution_count": 2,
   "metadata": {
    "colab": {},
    "colab_type": "code",
    "id": "oJ6sKkjyLMRW"
   },
   "outputs": [],
   "source": [
    "def initial_state(n):    \n",
    "    state = np.random.choice([1, -1], size=(n, n))\n",
    "    return state"
   ]
  },
  {
   "cell_type": "code",
   "execution_count": 3,
   "metadata": {},
   "outputs": [],
   "source": [
    "def initialize_p(ln,beta,J=1):\n",
    "  #one good things is to initialise this with ln = 6 , the maximum number of neighbours possible from all lattices. This is \n",
    "  p = np.ones(ln+1)\n",
    "  for i in range(1,ln+1):\n",
    "    p[i] = np.exp(-2*i*J*beta)\n",
    "  return p"
   ]
  },
  {
   "cell_type": "code",
   "execution_count": 19,
   "metadata": {
    "colab": {},
    "colab_type": "code",
    "id": "-Na29w-RLZlQ"
   },
   "outputs": [],
   "source": [
    "def step_update(state,p,J,H,acceptance,N = 10):  \n",
    "#     for i in range(N**2):\n",
    "    a = np.random.randint(0, N)\n",
    "    b = np.random.randint(0, N)\n",
    "    s =  state[a, b]\n",
    "    nb = state[(a+1)%N,b] + state[a,(b+1)%N] + state[(a-1)%N,b] + state[a,(b-1)%N]\n",
    "    cost = 2*s*(J*nb + H)\n",
    "    # print(nb,cost,np.exp(-cost*beta),rand())\n",
    "    if cost < 0:\n",
    "      state[a, b] = -state[a, b]\n",
    "      acceptance+=1\n",
    "    elif rand() < p[np.abs(nb)]:\n",
    "      state[a, b] = -state[a, b]\n",
    "      acceptance+=1\n",
    "    return state,acceptance\n",
    "\n",
    "def step_update_with_energy(state,beta,J,H,energy,N = 50):\n",
    "    a = np.random.randint(0, N)\n",
    "    b = np.random.randint(0, N)\n",
    "    s =  state[a, b]\n",
    "    nb = state[(a+1)%N,b] + state[a,(b+1)%N] + state[(a-1)%N,b] + state[a,(b-1)%N]\n",
    "    cost = 2*s*(J*nb + H)\n",
    "    if cost < 0 or rand() < np.exp(-cost*beta):\n",
    "        state[a, b] = -state[a, b]\n",
    "        energy+=cost\n",
    "    \n",
    "    return state,energy\n",
    "\n",
    "\n",
    "def step_update_with_energy_mag(state,p,J,H,energy,mag,acceptance,N=10):\n",
    "    for i in range(N**2):\n",
    "      a = np.random.randint(0, N)\n",
    "      b = np.random.randint(0, N)\n",
    "      s =  state[a, b]\n",
    "      nb = state[(a+1)%N,b] + state[a,(b+1)%N] + state[(a-1)%N,b] + state[a,(b-1)%N]\n",
    "      cost = 2*s*(J*nb + H)\n",
    "      if cost < 0:\n",
    "        if state[a,b] == 1:\n",
    "            mag-=2\n",
    "        else:\n",
    "          mag+=2\n",
    "        state[a, b] = -state[a, b]\n",
    "        acceptance+=1\n",
    "        energy+=cost\n",
    "      elif rand() < p[np.abs(nb)]:\n",
    "        if state[a,b] == 1:\n",
    "            mag-=2\n",
    "        else:\n",
    "          mag+=2\n",
    "        state[a, b] = -state[a, b]\n",
    "        acceptance+=1\n",
    "        energy+=cost\n",
    "    return state,energy,mag,acceptance\n",
    "        \n",
    "    "
   ]
  },
  {
   "cell_type": "code",
   "execution_count": 5,
   "metadata": {
    "colab": {},
    "colab_type": "code",
    "id": "BzlZNbH2NKK3"
   },
   "outputs": [],
   "source": [
    "def calcEnergy(state,J,H):\n",
    "    energy = 0\n",
    "    for i in range(len(state)):\n",
    "        for j in range(len(state)):\n",
    "            S = state[i,j]\n",
    "            nb = state[(i+1)%N, j] + state[i,(j+1)%N] + state[(i-1)%N, j] + state[i,(j-1)%N]\n",
    "            energy += -nb*S\n",
    "    return J*(energy/2.) + H*(np.sum(state))\n",
    "\n",
    "\n",
    "def calcMag(state):\n",
    "    return np.sum(state)\n",
    "\n"
   ]
  },
  {
   "cell_type": "markdown",
   "metadata": {
    "colab_type": "text",
    "id": "X3rwJHfhXBoO"
   },
   "source": [
    "## wolff"
   ]
  },
  {
   "cell_type": "code",
   "execution_count": 5,
   "metadata": {
    "colab": {
     "base_uri": "https://localhost:8080/",
     "height": 34
    },
    "colab_type": "code",
    "id": "L29nKcGGYjT-",
    "outputId": "88047bf1-27bb-4a80-fd48-bc60c2f28483"
   },
   "outputs": [
    {
     "data": {
      "text/plain": [
       "(0, 1)"
      ]
     },
     "execution_count": 5,
     "metadata": {},
     "output_type": "execute_result"
    }
   ],
   "source": [
    "random.choice([(1,0),(0,1)])"
   ]
  },
  {
   "cell_type": "code",
   "execution_count": 13,
   "metadata": {
    "colab": {},
    "colab_type": "code",
    "id": "OBtC98VkXDhU"
   },
   "outputs": [],
   "source": [
    "def ngbr(i,j,N):\n",
    "  return [((i+1)%N,j),((i-1)%N,j),(i,(j+1)%N),(i,(j-1)%N)]\n",
    "T = 2.5\n",
    "beta = 1/T\n",
    "\n",
    "steps = 10000\n",
    "# state = intial_state(N)\n",
    "def wolff_step(state,beta,p,N):\n",
    "    a = np.random.randint(0, N)\n",
    "    b = np.random.randint(0, N)\n",
    "    \n",
    "    s =  state[a, b]\n",
    "    Pocket, Cluster = [(a,b)], [(a,b)]\n",
    "    while Pocket != []:\n",
    "        # print(Pocket)\n",
    "        j = random.choice(Pocket)\n",
    "        nbr = ngbr(j[0],j[1],N)\n",
    "        for l in nbr:\n",
    "            if state[l[0],l[1]] == state[j[0],j[1]] and l not in Cluster and rand() < p:\n",
    "                Pocket.append(l)\n",
    "                Cluster.append(l)\n",
    "        Pocket.remove(j)\n",
    "    print(Cluster)\n",
    "    for j in Cluster:\n",
    "        state[j[0],j[1]] *= -1\n",
    "    return state\n"
   ]
  },
  {
   "cell_type": "code",
   "execution_count": 6,
   "metadata": {},
   "outputs": [],
   "source": [
    "% matplotlib qt\n",
    "N =10\n",
    "temp = 1\n",
    "J = 1\n",
    "H = 0\n",
    "state = initial_state(N)\n",
    "beta = 1/temp\n",
    "p  = 1.0 - np.exp(-2*beta) #for wolff\n",
    "steps = int(1e3)\n",
    "f = plt.figure(figsize=(10, 10), dpi=80);\n",
    "plt.pause(20)\n",
    "#wolff\n",
    "for i in range(steps):\n",
    "    plt.clf()\n",
    "    X, Y = np.meshgrid(range(N), range(N))\n",
    "    plt.pcolormesh(X, Y, state);\n",
    "    plt.title('Time= {}, Metropolis Hastings'.format(i+1))\n",
    "    plt.colorbar()\n",
    "    state = wolff_step(state, 1.0/temp,p,N)\n",
    "    plt.pause(0.0000003)"
   ]
  },
  {
   "cell_type": "code",
   "execution_count": 24,
   "metadata": {
    "scrolled": false
   },
   "outputs": [
    {
     "ename": "KeyboardInterrupt",
     "evalue": "",
     "output_type": "error",
     "traceback": [
      "\u001b[1;31m---------------------------------------------------------------------------\u001b[0m",
      "\u001b[1;31mKeyboardInterrupt\u001b[0m                         Traceback (most recent call last)",
      "\u001b[1;32m<ipython-input-24-92aad38e5b7c>\u001b[0m in \u001b[0;36m<module>\u001b[1;34m()\u001b[0m\n\u001b[0;32m     25\u001b[0m         \u001b[0midx\u001b[0m\u001b[1;33m+=\u001b[0m\u001b[1;36m1\u001b[0m\u001b[1;33m\u001b[0m\u001b[0m\n\u001b[0;32m     26\u001b[0m     \u001b[0mstate\u001b[0m\u001b[1;33m,\u001b[0m\u001b[0macceptance\u001b[0m \u001b[1;33m=\u001b[0m \u001b[0mstep_update\u001b[0m\u001b[1;33m(\u001b[0m\u001b[0mstate\u001b[0m\u001b[1;33m,\u001b[0m\u001b[0mp\u001b[0m\u001b[1;33m,\u001b[0m\u001b[0mJ\u001b[0m\u001b[1;33m,\u001b[0m\u001b[0mH\u001b[0m\u001b[1;33m,\u001b[0m\u001b[0macceptance\u001b[0m\u001b[1;33m,\u001b[0m\u001b[0mN\u001b[0m\u001b[1;33m)\u001b[0m\u001b[1;33m\u001b[0m\u001b[0m\n\u001b[1;32m---> 27\u001b[1;33m     \u001b[0mplt\u001b[0m\u001b[1;33m.\u001b[0m\u001b[0mpause\u001b[0m\u001b[1;33m(\u001b[0m\u001b[1;36m0.0003\u001b[0m\u001b[1;33m)\u001b[0m\u001b[1;33m\u001b[0m\u001b[0m\n\u001b[0m",
      "\u001b[1;32m~\\Anaconda3\\lib\\site-packages\\matplotlib\\pyplot.py\u001b[0m in \u001b[0;36mpause\u001b[1;34m(interval)\u001b[0m\n\u001b[0;32m    294\u001b[0m             \u001b[0mcanvas\u001b[0m\u001b[1;33m.\u001b[0m\u001b[0mdraw_idle\u001b[0m\u001b[1;33m(\u001b[0m\u001b[1;33m)\u001b[0m\u001b[1;33m\u001b[0m\u001b[0m\n\u001b[0;32m    295\u001b[0m         \u001b[0mshow\u001b[0m\u001b[1;33m(\u001b[0m\u001b[0mblock\u001b[0m\u001b[1;33m=\u001b[0m\u001b[1;32mFalse\u001b[0m\u001b[1;33m)\u001b[0m\u001b[1;33m\u001b[0m\u001b[0m\n\u001b[1;32m--> 296\u001b[1;33m         \u001b[0mcanvas\u001b[0m\u001b[1;33m.\u001b[0m\u001b[0mstart_event_loop\u001b[0m\u001b[1;33m(\u001b[0m\u001b[0minterval\u001b[0m\u001b[1;33m)\u001b[0m\u001b[1;33m\u001b[0m\u001b[0m\n\u001b[0m\u001b[0;32m    297\u001b[0m     \u001b[1;32melse\u001b[0m\u001b[1;33m:\u001b[0m\u001b[1;33m\u001b[0m\u001b[0m\n\u001b[0;32m    298\u001b[0m         \u001b[0mtime\u001b[0m\u001b[1;33m.\u001b[0m\u001b[0msleep\u001b[0m\u001b[1;33m(\u001b[0m\u001b[0minterval\u001b[0m\u001b[1;33m)\u001b[0m\u001b[1;33m\u001b[0m\u001b[0m\n",
      "\u001b[1;32m~\\Anaconda3\\lib\\site-packages\\matplotlib\\backends\\backend_qt5.py\u001b[0m in \u001b[0;36mstart_event_loop\u001b[1;34m(self, timeout)\u001b[0m\n\u001b[0;32m    479\u001b[0m         \u001b[1;32mif\u001b[0m \u001b[0mtimeout\u001b[0m\u001b[1;33m:\u001b[0m\u001b[1;33m\u001b[0m\u001b[0m\n\u001b[0;32m    480\u001b[0m             \u001b[0mtimer\u001b[0m \u001b[1;33m=\u001b[0m \u001b[0mQtCore\u001b[0m\u001b[1;33m.\u001b[0m\u001b[0mQTimer\u001b[0m\u001b[1;33m.\u001b[0m\u001b[0msingleShot\u001b[0m\u001b[1;33m(\u001b[0m\u001b[0mtimeout\u001b[0m \u001b[1;33m*\u001b[0m \u001b[1;36m1000\u001b[0m\u001b[1;33m,\u001b[0m \u001b[0mevent_loop\u001b[0m\u001b[1;33m.\u001b[0m\u001b[0mquit\u001b[0m\u001b[1;33m)\u001b[0m\u001b[1;33m\u001b[0m\u001b[0m\n\u001b[1;32m--> 481\u001b[1;33m         \u001b[0mevent_loop\u001b[0m\u001b[1;33m.\u001b[0m\u001b[0mexec_\u001b[0m\u001b[1;33m(\u001b[0m\u001b[1;33m)\u001b[0m\u001b[1;33m\u001b[0m\u001b[0m\n\u001b[0m\u001b[0;32m    482\u001b[0m \u001b[1;33m\u001b[0m\u001b[0m\n\u001b[0;32m    483\u001b[0m     \u001b[1;32mdef\u001b[0m \u001b[0mstop_event_loop\u001b[0m\u001b[1;33m(\u001b[0m\u001b[0mself\u001b[0m\u001b[1;33m,\u001b[0m \u001b[0mevent\u001b[0m\u001b[1;33m=\u001b[0m\u001b[1;32mNone\u001b[0m\u001b[1;33m)\u001b[0m\u001b[1;33m:\u001b[0m\u001b[1;33m\u001b[0m\u001b[0m\n",
      "\u001b[1;31mKeyboardInterrupt\u001b[0m: "
     ]
    }
   ],
   "source": [
    "% matplotlib qt\n",
    "N =50\n",
    "temp = 1\n",
    "J = 1\n",
    "H = 0\n",
    "state = initial_state(N)\n",
    "beta = 1/temp\n",
    "#metropolis   \n",
    "steps = int(1e7)\n",
    "p = initialize_p(4,beta,J) #for metropolis\n",
    "f = plt.figure(figsize=(10, 10), dpi=80);\n",
    "plt.pause(20)\n",
    "k = np.arange(25,dtype = int)\n",
    "ks = 2**k\n",
    "idx=0\n",
    "acceptance = 0\n",
    "for i in range(steps):\n",
    "#     print(i)\n",
    "    if i == ks[idx]:\n",
    "        plt.clf()\n",
    "        X, Y = np.meshgrid(range(N), range(N))\n",
    "        plt.pcolormesh(X, Y, state);\n",
    "        plt.title('Time= {}, Metropolis Hastings'.format(i+1))\n",
    "        plt.colorbar()\n",
    "        idx+=1\n",
    "    state,acceptance = step_update(state,p,J,H,acceptance,N)\n",
    "    plt.pause(0.0003)\n"
   ]
  }
 ],
 "metadata": {
  "colab": {
   "collapsed_sections": [
    "EX3SHL2mKDjD",
    "z4Um5Je_fPTi",
    "9VjtNYfmuTig",
    "yewP-e8SubAA",
    "mi0nduiO-sMG",
    "2uILomcRvweu",
    "cDmzThXeVH0-",
    "KpLLMRi20YRT",
    "tIFRMACbHmNy"
   ],
   "name": "ising3",
   "provenance": []
  },
  "kernelspec": {
   "display_name": "Python 3",
   "language": "python",
   "name": "python3"
  },
  "language_info": {
   "codemirror_mode": {
    "name": "ipython",
    "version": 3
   },
   "file_extension": ".py",
   "mimetype": "text/x-python",
   "name": "python",
   "nbconvert_exporter": "python",
   "pygments_lexer": "ipython3",
   "version": "3.6.5"
  }
 },
 "nbformat": 4,
 "nbformat_minor": 1
}
